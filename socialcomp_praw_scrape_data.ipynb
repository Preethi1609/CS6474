{
  "cells": [
    {
      "cell_type": "code",
      "execution_count": null,
      "metadata": {
        "colab": {
          "base_uri": "https://localhost:8080/"
        },
        "id": "F6KzNJI9lISz",
        "outputId": "f501d5d1-0b91-4b38-ecac-476bd1922aa6"
      },
      "outputs": [
        {
          "name": "stderr",
          "output_type": "stream",
          "text": [
            "/Users/preethi/Library/Python/3.9/lib/python/site-packages/urllib3/__init__.py:35: NotOpenSSLWarning: urllib3 v2 only supports OpenSSL 1.1.1+, currently the 'ssl' module is compiled with 'LibreSSL 2.8.3'. See: https://github.com/urllib3/urllib3/issues/3020\n",
            "  warnings.warn(\n"
          ]
        }
      ],
      "source": [
        "# setup\n",
        "# !pip3 install praw\n",
        "import praw\n",
        "import pandas as pd\n",
        "import os\n",
        "secret = os.environ.get(\"SECRET\") # how to get: https://github.com/reddit-archive/reddit/wiki/OAuth2-Quick-Start-Example#first-steps\n",
        "client_id = os.environ.get(\"CLIENT_ID\")\n",
        "user_agent = os.environ.get(\"USER_AGENT\")"
      ]
    },
    {
      "cell_type": "code",
      "execution_count": 2,
      "metadata": {
        "id": "hEowgx1AlMjf"
      },
      "outputs": [],
      "source": [
        "import praw\n",
        "\n",
        "def get_last_n_submissions(subreddit_name, n, client_id, client_secret, user_agent, flair=None):\n",
        "    \"\"\"\n",
        "    Fetches the last `n` submissions from a given subreddit, optionally filtering by flair.\n",
        "\n",
        "    Parameters:\n",
        "    - subreddit_name (str): The name of the subreddit.\n",
        "    - n (int): The number of submissions to fetch.\n",
        "    - client_id (str): Reddit API client ID.\n",
        "    - client_secret (str): Reddit API client secret.\n",
        "    - user_agent (str): Reddit API user agent.\n",
        "    - flair (str, optional): The flair to filter by (case-sensitive).\n",
        "\n",
        "    Returns:\n",
        "    - List of dictionaries with 'title', 'selftext', and 'flair'.\n",
        "    \"\"\"\n",
        "    # Initialize Reddit API client\n",
        "    reddit = praw.Reddit(\n",
        "        client_id=client_id,\n",
        "        client_secret=client_secret,\n",
        "        user_agent=user_agent\n",
        "    )\n",
        "\n",
        "    subreddit = reddit.subreddit(subreddit_name)\n",
        "    submissions = []\n",
        "\n",
        "    # Get last n submissions sorted by new\n",
        "    count = 0\n",
        "    for submission in subreddit.new(limit=100):  # Fetch more to account for filtering\n",
        "        if flair and submission.link_flair_text not in flair:\n",
        "            print('skipped: {}'.format(submission.link_flair_text))\n",
        "            continue  # Skip if flair doesn't match\n",
        "\n",
        "        submissions.append({\n",
        "        \"title\": submission.title,\n",
        "        \"selftext\": submission.selftext,\n",
        "        \"flair\": submission.link_flair_text,\n",
        "        \"posted_time\": submission.created_utc,  # Unix timestamp\n",
        "        \"upvotes\": submission.score,\n",
        "        \"num_comments\": submission.num_comments,\n",
        "        \"submission_id\": submission.id,\n",
        "        \"upvote_ratio\": submission.upvote_ratio,\n",
        "        \"over_18\": submission.over_18\n",
        "      })\n",
        "\n",
        "        count += 1\n",
        "        if count >= n:  # Stop when we reach `n` valid submissions\n",
        "            break\n",
        "\n",
        "    return submissions\n"
      ]
    },
    {
      "cell_type": "code",
      "execution_count": null,
      "metadata": {
        "id": "Urmya4sIlN3F"
      },
      "outputs": [],
      "source": [
        "# my filters\n",
        "n = 10\n",
        "subreddits = ['casualconversation', 'seriousconversation']\n",
        "flairs = {\n",
        "    subreddits[0]:\n",
        "    [\n",
        "    \":star: Neat\",\n",
        "    # \":topic: Weekly Topic\",      # From URL encoding\n",
        "    \":gaming: Gaming\",           # From URL encoding\n",
        "    \":chat: Just Chatting\",      # From URL encoding\n",
        "    \":note: Music\",              # From URL encoding\n",
        "    \":film: Movies & Shows\",     # From URL encoding\n",
        "    \":food: Food & Drinks\",      # From URL encoding\n",
        "    \":paw: Pets & Animals\",      # From URL encoding\n",
        "    \":mark: Books & Reading\",    # From URL encoding\n",
        "    \":story: Life Stories\",      # From URL encoding\n",
        "    \":question: Questions\",      # From URL encoding\n",
        "    \":thinking: Thoughts & Ideas\",  # From URL encoding\n",
        "    \":ididit: Made did it\"       # From URL encoding\n",
        "]\n",
        ",\n",
        "    subreddits[1]: [\n",
        "    \":drugs: Drugs & Alcohol\",\n",
        "    \":question: Question\",\n",
        "    \":mental_health: Mental Health\",\n",
        "    \":current_event: Current Event\",\n",
        "    \":general: Serious Discussion\",\n",
        "    # \":mod_post: Mod Post\",\n",
        "    \":religion: Religion\",\n",
        "    \":gender: Gender & Sexuality\",\n",
        "    \":opinion: Opinion\",\n",
        "    \":advice: Situational Advice\",\n",
        "    \":politics: Politics\"\n",
        "]\n",
        "}"
      ]
    },
    {
      "cell_type": "code",
      "execution_count": 5,
      "metadata": {
        "colab": {
          "base_uri": "https://localhost:8080/"
        },
        "id": "B-xYIWAmlSPi",
        "outputId": "94ad1edf-f8c1-4233-8668-67a0f0b1688b"
      },
      "outputs": [
        {
          "name": "stdout",
          "output_type": "stream",
          "text": [
            "skipped: None\n",
            "skipped: None\n",
            "skipped: None\n",
            "skipped: None\n",
            "skipped: None\n",
            "skipped: None\n",
            "skipped: None\n",
            "skipped: None\n",
            "skipped: None\n",
            "skipped: None\n",
            "skipped: :party: Celebration\n",
            "skipped: None\n",
            "skipped: None\n",
            "[{'title': 'What’s a completely harmless thing that irrationally annoys you?', 'selftext': 'I’m talking small, stupid stuff that shouldn’t make you mad… but absolutely does.\\n\\nFor me? When someone starts telling me a story and then goes “oh nevermind.”\\n\\nNo. You don’t get to do that. I need closure now.\\n\\nWhat’s yours?', 'flair': ':chat: Just Chatting', 'posted_time': 1742762846.0, 'upvotes': 17, 'num_comments': 18, 'submission_id': '1ji9bva', 'upvote_ratio': 1.0, 'over_18': False}, {'title': 'What are your thoughts on my ideal city?', 'selftext': 'If I made a city from scratch, had all creative control with an unlimited budget:\\nI’d prioritize walkability and public transit, and try to incorporate more nature into cities.  I’d also try to plant Miyawaki (aka tiny forests) forests to boost the biodiversity in the area. I’d try to encourage musicians to play in public areas as well to create a nice ambiance.\\n\\nNow getting into fun the part— I’d try to create distinct districts to create its own unique feel. Here are some themes for the districts:\\n-Pastel district, where the colors provide a nice pop\\n-A Deco district, because it’s a cool architectural style\\n-A cyberpunk district, where it feels like you’re in Blade Runner and everything feels futuristic. \\n\\nYou can add to or nix any of these ideas', 'flair': ':thinking: Thoughts & Ideas', 'posted_time': 1742761209.0, 'upvotes': 5, 'num_comments': 8, 'submission_id': '1ji8oqu', 'upvote_ratio': 1.0, 'over_18': False}, {'title': \"What is a song that left y'all shocked with amazement after listening to it?\", 'selftext': 'I must give credit to this post for partially inspiring this one: [https://www.reddit.com/r/CasualConversation/comments/1jfxiip/what\\\\_is\\\\_everyones\\\\_favorite\\\\_go\\\\_to\\\\_song/](https://www.reddit.com/r/CasualConversation/comments/1jfxiip/what_is_everyones_favorite_go_to_song/)\\n\\nSo the other day, while I was wandering down the nature trail, I was looking for a song to listen to on my phone, and that\\'s when I stumbled across a song by post-rock band Sigur Rós called \"Ný batterí.\" Out of curiosity, I decided to listen to it and from the first note until the last, I was mind blown at how incredible this song was. Everything about this song (from the ambient vibe throughout the song, to Jónsi\\'s breathtaking vocal performance, to the erupting crescendo near the end) brought my soul into a state of constant tranquility and euphoria. Definitely going to listen to more of their discography in the future!', 'flair': ':note: Music', 'posted_time': 1742758670.0, 'upvotes': 8, 'num_comments': 18, 'submission_id': '1ji7ox7', 'upvote_ratio': 1.0, 'over_18': False}, {'title': 'Tried to impress a girl but it backfired', 'selftext': 'So there\\'s this cute girl \\'G\\', in my class and she sings, I\\'m really into music as well. We have sung together on certain occassions before but we\\'re not really friends. Recently, an opportunity for a gig came up and she was part of our group. I play the guitar but never infront of her, i thought this\\'d be a chance to impress her.\\n\\nWe start practice and just trying out different songs, everyone was vibing. It was an open area so passing students would hang out for a while and give compliments. I would occasionally glance at G and she seemed oddly quiet, just smiling along. Anyway when we were done with the practice, a bunch of classmates came up to me - \" Yo OP that was sick. We had no idea you played the guitar- blah blah blah\". I was appreciative but honestly I was still looking at my crush, who again seemed cold.\\n\\nRight after they left, she came up to me and took the guitar.\\n\\n\" Oof this is a little heavy. How long did it take u to learn it?\"\\n\\n\"Uhh around 2 months I guess. Haha\"\\n\\n\"Oh must\\'ve been hard, huh?\"\\n\\n\" Yeah it takes a while to get the hang of it.\"\\n\\n\" I bet I can learn it faster tho.\"\\n\\n\"Mm?\"\\n\\n\" Well, I\\'m a quick learner. I can already kinda play the ukulele so a guitar won\\'t be that hard.\"\\n\\n\" Yeah you can definitely pick it up quicker. Practice was fun, right?\"\\n\\n\" Sure\" \\n\\n she tries to strum the guitar for a good while then gives it back to me.\\nShe then leaves after waving goodbye. I don\\'t know what I did to make it so awkward.', 'flair': ':story: Life Stories', 'posted_time': 1742757689.0, 'upvotes': 10, 'num_comments': 12, 'submission_id': '1ji7atp', 'upvote_ratio': 0.73, 'over_18': False}, {'title': 'I miss playing sports in HS, but I definitely enjoy being a spectator more.', 'selftext': 'I grew up as a multi-sport athlete, and while there are days when I miss being a player, there’s a lot of stuff that I simply don’t miss. A lot of it being because of the summer months with how busy my days could be. \\n\\nSo I went out for Football (not soccer), Basketball, Golf, and Baseball. Which made my summers crazy busy. \\n\\nA normal summer day in the life of me would start at 5:00 in the morning, I would report to Strength and Conditioning workouts. After S&C was over, I would go have either open gym for basketball, or a basketball team camp, then I would have to turn around and play a baseball game. \\n\\nAfter about the first month of summer break, I would do S&C workouts, then I had to do either a light contact football camp *or* we had full contact camps, then I would turn around and have to throw 70+ pitches in a baseball game while battling soreness (ouch). \\n\\nCome time for the end of summer break, we would still do S&C, we’d have one more football camp, and still more baseball games! \\n\\nOur baseball schedule end of the season was wild, in order to get to state, you had to win a four team Districts tournament. Win that, and you move on to “Super Districts” where you played a three game series against just one team, THEN you move onto the State playoffs where it was an eight team double elimination bracket. Ugggh, we made it to the finals my senior year and we battled up from the loser’s bracket, so we had to play the finals twice before losing the second game lol. \\n\\nFinally S&C would end for the summer, we moved onto “two-a-days” for football practice. In the 90 degree August heat, and the worst humidity imaginable too. Something about it with the combination of the heat, the full contact two-a-day practices and just taking hits always made me tired and ready for a nap lol \\n\\nI honestly felt like I didn’t truly have a summer break for four years, I was always doing something. I miss playing sports but those summers were absolutely hectic, and it kinda makes me happy to be a spectator for the rest of my days lol. Oh I forgot to mention about basketball camps and open gym, the school shuts off their A/c during the summer… not fun lol', 'flair': ':chat: Just Chatting', 'posted_time': 1742756908.0, 'upvotes': 1, 'num_comments': 1, 'submission_id': '1ji6zsf', 'upvote_ratio': 0.67, 'over_18': False}, {'title': 'I saw two different albino animals on my jog this morning. It really made my day.', 'selftext': \"I went for a jog through the woods this morning around sunrise. I live around 3,000 plus acres of state owned land. So I will jog about 3 miles of different trails a few times a week. \\n\\nI was going over a small bridge over a marsh and seen an albino River Otter on a log. It stood up, made a weird barking noise at me, and dove under the water. It made me extremely happy as River Otters have made a comeback in my state over the last 20 years. I'm glad that one is safe in the state park and hope I'll be lucky enough to see it again. \\n\\nOn my way home as I was turning onto the county road towards my house, an albino Whitetail deer ran out in front of me. I couldn't believe it. Two albino animals in 1 day. It was such a magical experience. It's going to be a great day. \\n\\nWhat's the most unique or beautiful animal you have seen? I'm still blown away I got that lucky. \", 'flair': ':chat: Just Chatting', 'posted_time': 1742746355.0, 'upvotes': 5, 'num_comments': 1, 'submission_id': '1ji2tjv', 'upvote_ratio': 1.0, 'over_18': False}, {'title': 'I accidentally tasted the “good” rice', 'selftext': 'I’m a broke final-year student barely scraping by, still two months away from my first full-time job, and my pantry reflects that reality. My go-to meal for the past year was 2kg bags of the cheapest white rice I can find. Nothing fancy. Just carbs and survival.\\n\\nAnyway, I went to the store the other day, and surprise surprise—all the cheap rice was gone. Like, every brand under 1.50€ completely wiped out. The only thing left was some bougie-looking rice in a brown paper bag with a tiny window that says “hand-harvested” and “aged for aroma” (like it’s a bottle of wine or something??). It cost 2.79€, and I sighed while dropping it into my basket like it personally offended my wallet.\\n\\nI just made it today with my usual cheap stir-fry veggies and soy sauce, and what the heck. It didn’t clump. It fluffed. Each grain was like... separate. It smelled good before I even added anything. The texture was perfect—not mushy, not too firm, just this glorious chewy balance. And even without sauce, it tasted like something. Like actual food. I could feel myself chewing slower just to appreciate it.\\n\\nNow I can’t stop thinking about it. My mouth is having an identity crisis. What else have I been missing all this time?? Is this what not-poor people eat casually every day?\\n\\nI hate it here.', 'flair': ':chat: Just Chatting', 'posted_time': 1742754612.0, 'upvotes': 1688, 'num_comments': 120, 'submission_id': '1ji62ya', 'upvote_ratio': 0.98, 'over_18': False}, {'title': \"What was the most bizarre nickname that you've ever had?\", 'selftext': 'People used to call me \"Veyron\" in high school because I was the fastest runner among all of us. (Bugatti Veyron was the fastest known car back in my days when I was in highschool) I was so proud of it. What about you people?', 'flair': ':chat: Just Chatting', 'posted_time': 1742747266.0, 'upvotes': 59, 'num_comments': 113, 'submission_id': '1ji361r', 'upvote_ratio': 0.95, 'over_18': False}, {'title': 'How do you guys unwind on a Sunday afternoon/night knowing you have work tomorrow?', 'selftext': 'been back in the work force for 3 weeks and honestly been loving it, great job, great team but now I’m here like, wanting to be in the present moment enjoying the last bit of my amazing weekend without having that feeling of ugh work tomorrow.', 'flair': ':chat: Just Chatting', 'posted_time': 1742716801.0, 'upvotes': 2, 'num_comments': 4, 'submission_id': '1jhu9rf', 'upvote_ratio': 1.0, 'over_18': False}, {'title': '5 hours 29 minutes last week on Reddit', 'selftext': 'I get an update on my phone every week about my most used websites and it said I was on Reddit 5 hrs and 29 minutes the last week.  How much time do you spend on here?', 'flair': ':chat: Just Chatting', 'posted_time': 1742737240.0, 'upvotes': 1, 'num_comments': 0, 'submission_id': '1jhzi5r', 'upvote_ratio': 1.0, 'over_18': False}]\n",
            "skipped: Culture\n",
            "skipped: Culture\n",
            "skipped: Culture\n",
            "[{'title': 'What’s the best piece of advice you’ve ever been given?', 'selftext': 'The best parenting advice I have ever received was, \"They are not giving you a hard time, they are having a hard time.\"  Its a constant reminder when I do feel like they are giving me a hard time, that I take a breath and figure out how I can be there for them. ', 'flair': ':general: Serious Discussion', 'posted_time': 1742761235.0, 'upvotes': 8, 'num_comments': 19, 'submission_id': '1ji8p4e', 'upvote_ratio': 1.0, 'over_18': False}, {'title': 'Message me, it’s a Sunday - in the mood for convos - especially deep ones', 'selftext': 'Happy to get DMs off ppl of all ages but if you’re gen z would be great or just messages off older wise ppl.\\n\\nGirlies you’re welcome to message (feel like this platform has more guys so just mentioning girls are very much wanted too)\\n\\nXxx', 'flair': ':gender: Gender & Sexuality', 'posted_time': 1742744829.0, 'upvotes': 2, 'num_comments': 1, 'submission_id': '1ji28d6', 'upvote_ratio': 0.75, 'over_18': False}, {'title': 'Life finally hit', 'selftext': '34 Male\\n\\nNot sure when it happens, but I think it will for everyone. Just now realizing that I can\\'t do this thing called \"life\" alone, or without putting in extra work. My entire life has been easy, and when faced with some difficulties, like real struggle (3 months back on mortgage, verge of eviction, lost job, lost GF, picked up some bad drinking and smoking habits), I wana quit and take an easy route. But as I sit here alone, thinking and regretting and blaming other stuff besides myself, that is wrong thinking. Let this  maybe be a help to 1 person out there reading this....You really have to put the work in and try your best. Life is what you put it in, it really is. The world seems to be in a crazy place (through the eyes of a mid 30\\'s American male), but at the end of the day, look out your window, look around you, and you can control all of that. So try your hardest, in everything you do, and then try even harder. Be kind to all, then pass on your good stuff to the youth. Good luck ', 'flair': ':general: Serious Discussion', 'posted_time': 1742703750.0, 'upvotes': 81, 'num_comments': 14, 'submission_id': '1jhr5w8', 'upvote_ratio': 0.95, 'over_18': False}, {'title': \"If someone struggles with trust in a relationship, is it because they just haven't met the right person?\", 'selftext': \"If someone has multiple relationships but always has difficulty with trust and feeling like they can't rely on their potential spouse, is this something deeper that needs to be fixed internally or have they just not met the right person?\", 'flair': ':general: Serious Discussion', 'posted_time': 1742696905.0, 'upvotes': 6, 'num_comments': 14, 'submission_id': '1jhp704', 'upvote_ratio': 0.67, 'over_18': False}, {'title': 'Losing Hope', 'selftext': \"I (21F) cheated on my ex boyfriend last year, after which we broke up. I feel like there were surely issues in our relationship but I was a coward to not end the relationship instead. I feel hopeless now, the poor guy is struggling with trust issues because of me.\\n\\nI honestly wish him nothing but the best of luck, health and happiness and may he get the love he deserves. But sometimes, I just feel lonely and hopeless. Who would even love me knowing I cheated on that poor soul after he loved me so much? Sure, I'm trying to be a better person every day but hey, at the end of the day I'm a cheater. Will I ever find love? Should that even be on my mind after what I did? I'm lost.\", 'flair': ':general: Serious Discussion', 'posted_time': 1742695326.0, 'upvotes': 0, 'num_comments': 43, 'submission_id': '1jhopu7', 'upvote_ratio': 0.41, 'over_18': False}, {'title': 'What is a traumatic event in your life that ultimately humbled you or turned you into a better person?', 'selftext': 'For me, it was losing my eyesight at the age of 22. I’ll be 32 on the 30th of this month. When it first happened, I went to an extremely dark place. No pun intended… Lol. Seriously, though. It was bad. I thought about ending my own life a lot. I was pretty much in an extended manic depressive state. But after a while, I got used to it and Realized that I had two options: I could allow it to continue to drag me into the depths of misery, and basically live as an angry shell of a human being. Or I could let it make me stronger. I could take this bad thing and use it as fuel and motivation to work harder, try harder, push harder, etc.  yes, bad things happen to good people. But that doesn’t mean that you have to let it turn you into a bad person. It doesn’t mean that life is any less beautiful or worth living.    \\n\\nSo, what is something bad that happened to you that ultimately changed you as a human being, but in a good way? What did it teach you? And what ways did you grow from it? What did it teach you about the world in general? What did it teach you about yourself? If it were to happen to someone else, what advice would you give them?     \\n\\nIf you don’t feel comfortable sharing exactly what the bad thing was, that’s fine. You can still answer the rest of the questions though if you’d like. I’m just curious to see what valuable life lessons y’all have to share and how you used your own strength/resilience to get past obstacles. ', 'flair': ':general: Serious Discussion', 'posted_time': 1742693530.0, 'upvotes': 129, 'num_comments': 79, 'submission_id': '1jho5r2', 'upvote_ratio': 0.98, 'over_18': False}, {'title': 'Do you think the problem with humanity is the Peter Principle--people continue to advance until they fail, and then stay at that final level of incompetence?', 'selftext': \"Some people argue that, in any hierarchy, competent people keep advancing until they finally get to a role where they're incompetent, because the skills required are different, and then they stay there at that plateau (and lack insight into their own incompetence).  This is called the Peter Principle.\\n\\n[https://en.wikipedia.org/wiki/Peter\\\\_principle](https://en.wikipedia.org/wiki/Peter_principle)\\n\\nWhat if, humanity just kept advancing until now we really can't handle where we're at, and that's why everything feels so dysfunctional?\\n\\nMeaning, growth happened so fast in the last century that now we really don't know what's happening or what we're doing, and human cognition just can't keep up anymore?\\n\\nWe rely so much on hearsay now--we don't personally understand the science behind things, we don't really read the research behind it, we don't know who's biased and who's not, we don't know if we're being lied to or not--what do we \\\\*actually\\\\* know?  Yet we argue with others as if we know a lot.\\n\\nWhen I was growing up, there weren't that many choices at the supermarket, at restaurants, on tv, etc.  Now there are infinite choices, so many that we just gave ourselves over to algorithms to show us what we want.\\n\\nHave human circumstances evolved faster than the human brain?\\n\\nHave we overwhelmed ourselves?  And what's the solution?\", 'flair': ':general: Serious Discussion', 'posted_time': 1742687852.0, 'upvotes': 10, 'num_comments': 34, 'submission_id': '1jhmb95', 'upvote_ratio': 0.92, 'over_18': False}, {'title': 'What did you do, and you absolutely regret to have done? Something that is eating you from the inside? Why did you do it?', 'selftext': 'What did you do, and you absolutely regret to have done? Something that is eating you from the inside. Can you elaborate on what/whom made you do it, and why you regret it so much.\\nAnd did you manage to erase / mitigate the negative effects of what you did, or unfortunately not?', 'flair': ':general: Serious Discussion', 'posted_time': 1742686422.0, 'upvotes': 7, 'num_comments': 11, 'submission_id': '1jhltvc', 'upvote_ratio': 0.77, 'over_18': False}, {'title': 'Should completing a prison sentence wipe your slate clean?', 'selftext': \"I heard this one girl say that is is unfair that when prisoners finish serving their time and are able to go back out into society, they are often still punished for the crime they did and they shouldn't be, because there are limitations as to what they can and cannot do in their day to day life because of their crime. I've always been quite a black and white person but her statement made me really think because I both disagree and agree with her, so I wanted someone else's input.\\n\\nFor example, if you are a pedophile and you rape a child, and you served your maximum sentence, once you get out of jail, should you want to be an elementary teacher, a youth baseball coach, or even have a child and take him to the children's museum, you wouldn't be able to do that. So ultimately, you're still being punished for your crime, even though you already did the time. Her stance is, since you *did* already do the crime, your slate should be wiped clean and you should be allowed to be a 3rd grade teacher if you wanted to or be a chaperone at your child's field trip.\\n\\nI don't think it is okay to strip someone of their natural and constitutional rights for the remainder of their life because of a crime they committed, simply because I think it perpetuates systemic racism, classism, sexism, etc which leads to other significant issues, but I also feel like it's not that hard to *not* break the law, and people who do brought this on themselves, so whatever the consequences are, that's just what they have to endure. What are your thoughts? \", 'flair': ':general: Serious Discussion', 'posted_time': 1742669738.0, 'upvotes': 33, 'num_comments': 257, 'submission_id': '1jhfqp1', 'upvote_ratio': 0.68, 'over_18': False}, {'title': 'Should I cut off my friend of 8 years?', 'selftext': \"So I've been friends with let's call her Sarah for over 8 years now, and I genuinely think she's a good person. The problem is, she NEVER texts me first and when I do, our conversations ale usually quick and shallow, me doing most of the talking, but when we're together irl she's great to talk to. \\n\\nShe knows EVERYTHING about me, but I know absolutely nothing about her. (I didn't even know that she had a boyfriend for over a month untill recently I asked her myself, and having a boyfriend was something she really wanted for a long time so I hoped I'd be at least in the top five people to know about if first, but no)\\n\\n\\nShe's always been a quiet type so I never questioned it, but over the years I really grew tired of it. Our plans never work out (she's always the one to cancel or ghosts me)  and a lot of times I genuinely feel like I'm annoying her.\\n\\nWhen I see her with her other friends she just acts so.. different. And it hurts. Even in text, she's just so much more talkative to them and no matter what I do she's never like that with me and I feel like if I stopped texting first, out friendship would end.\\n\\n\\nBut at the same time, I actually cut her off 2 years ago (I'm not gonna say details but her actions hurt me) and she actually tried to fix it? She apologised two times on two different social medias (I blocked her almost everywhere so she must've really dig deep to find out where I didn't block her and that means she cares) and and apologised very deeply. If she was annoyed by me she wouldn't do this, should she?\\n\\n\\nI want to mention that she's also deeply depressed and her parents are divorced so that was another reason why I think why she acts the way she does and I feel horrible for even thinking to cut her off, but always having to text first is just so draining.\\n\\n She means a lot to me, but no matter how many times I've asked her why she doesn't text me first she just brushes it off.\\n\\nI don't want to loose her, but I also don't think I can do this for any longer. Why do I always have to be the one to do everything?\", 'flair': ':general: Serious Discussion', 'posted_time': 1742669218.0, 'upvotes': 2, 'num_comments': 5, 'submission_id': '1jhfjo0', 'upvote_ratio': 0.75, 'over_18': False}]\n"
          ]
        }
      ],
      "source": [
        "# run - main\n",
        "for subreddit in subreddits:\n",
        "  data = []\n",
        "  submissions = get_last_n_submissions(subreddit, n, client_id, secret, user_agent, flairs[subreddit])\n",
        "  print(submissions)\n",
        "  for s in submissions:\n",
        "    data.append({\n",
        "            \"title\": s[\"title\"],\n",
        "            \"text\": s[\"selftext\"],\n",
        "            \"flair\": s[\"flair\"],\n",
        "            \"posted_time\": s[\"posted_time\"],  # Unix timestamp\n",
        "            \"upvotes\": s[\"upvotes\"],\n",
        "            \"num_comments\": s[\"num_comments\"],\n",
        "            \"submission_id\": s[\"submission_id\"],\n",
        "            \"upvote_ratio\": s[\"upvote_ratio\"],\n",
        "            \"over_18\": s[\"over_18\"]\n",
        "        })\n",
        "  df = pd.DataFrame(data)\n",
        "  df.to_csv('{}.csv'.format(subreddit))"
      ]
    }
  ],
  "metadata": {
    "colab": {
      "provenance": []
    },
    "kernelspec": {
      "display_name": "Python 3",
      "name": "python3"
    },
    "language_info": {
      "codemirror_mode": {
        "name": "ipython",
        "version": 3
      },
      "file_extension": ".py",
      "mimetype": "text/x-python",
      "name": "python",
      "nbconvert_exporter": "python",
      "pygments_lexer": "ipython3",
      "version": "3.9.6"
    }
  },
  "nbformat": 4,
  "nbformat_minor": 0
}
